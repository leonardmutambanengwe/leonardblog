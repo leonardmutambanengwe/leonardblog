{
 "cells": [
  {
   "cell_type": "markdown",
   "metadata": {},
   "source": [
    "# A Year of Pumpkins: Regression Analysis with Pumpkin prices and KNIME Analytics platform\n",
    "> Predicting the average prices of pumpkins in American cities "
   ]
  },
  {
   "cell_type": "markdown",
   "metadata": {},
   "source": [
    "KNIME Analytics is a low code platform for analytics, in which visual programming paradigm is implemented through the use of workflows. Nodes representing actions on data are linked, sequentially, as a DAG. A Year of Pumpkins dataset has information about the prices of pumpkins for months in 2016 and 2017, as well as other information including packaging, sizes, type for 13 different cities in the USA. "
   ]
  },
  {
   "cell_type": "markdown",
   "metadata": {},
   "source": [
    "The dataset is actually made up of multiple datasets, each for a separate city. Using the **CSV Reader** node, all 13 files could be read at once. However, because some of the files had more columns, an option to catch the error had to be relaxed.\n",
    "The columns are as below:\n",
    "\n",
    "![below:](.\\images\\\\columns.jpg)\n"
   ]
  },
  {
   "cell_type": "markdown",
   "metadata": {},
   "source": [
    "The last 4, are not in most of the other csv files, and so had to be removed using the **Column Filter** node. Other columns with no valuable information were also removed, as well as those with over 40% missing values with **Missing Value Column Filter** node. \n",
    "\n",
    "Column Date was transformed into datetime, using Pandas. Knime can integrate python (and other languages including R and Java). The date was then used to access, using dt, week, month and week information which might be useful in determining price levels. Also the average price was calculated from low and high for the day. \n",
    "\n",
    "![script](.\\\\images\\\\py_script.jpg)"
   ]
  },
  {
   "cell_type": "markdown",
   "metadata": {},
   "source": [
    "The linear regression is a base line to benchmark the performance. The data was split 70:30 using the **Partitioning** node, and a **Linear Regression Learner** and **Linear Regression Predictor** were used to train and predict on the test set.\n",
    "The regression was run on 11 columns. "
   ]
  },
  {
   "cell_type": "markdown",
   "metadata": {},
   "source": [
    "![reg1](.\\\\images\\\\results1.jpg)\n",
    "\n",
    "Results of the linear regression, including R-squared for model fit and RMSE for performance. "
   ]
  },
  {
   "cell_type": "markdown",
   "metadata": {},
   "source": [
    "Linear correlation was used to remove corelated features. 2 columns were removed and training and predict done.\n",
    "\n",
    "![res2](.\\\\images\\\\results2.jpg)"
   ]
  },
  {
   "cell_type": "markdown",
   "metadata": {},
   "source": [
    "Removing the correlated features resulted in a slight improvement in the RMSE, falling to 41.293 from 42.04. "
   ]
  },
  {
   "cell_type": "markdown",
   "metadata": {},
   "source": [
    "![whole](.\\\\images\\\\pumpkins_shot.jpg)\n",
    "*Whole workflow*"
   ]
  },
  {
   "cell_type": "markdown",
   "metadata": {},
   "source": [
    "Other ideas to explore:\n",
    "1. H2o regression and tree regression - to explore feature importances \n",
    "2. Regularisation methods for regresssion - LASSO, Ridge\n",
    "3. SVM\n",
    "4. Packaging - there are different packages measurements, see if they can be standardised.\n",
    "5. Visualisations"
   ]
  }
 ],
 "metadata": {
  "interpreter": {
   "hash": "98e3af001c5d31feef5ea5a5964d747347292be8915bfaf24ba20e2667497480"
  },
  "kernelspec": {
   "display_name": "R",
   "language": "R",
   "name": "ir"
  },
  "language_info": {
   "codemirror_mode": {
    "name": "ipython",
    "version": 3
   },
   "file_extension": ".py",
   "mimetype": "text/x-python",
   "name": "R",
   "nbconvert_exporter": "python",
   "pygments_lexer": "ipython3",
   "version": "3.9.5"
  },
  "orig_nbformat": 4
 },
 "nbformat": 4,
 "nbformat_minor": 2
}
